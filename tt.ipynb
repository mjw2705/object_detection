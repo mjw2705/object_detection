{
 "cells": [
  {
   "cell_type": "code",
   "execution_count": 15,
   "metadata": {
    "collapsed": true
   },
   "outputs": [],
   "source": [
    "import cv2\n",
    "import numpy as np\n",
    "\n",
    "DB_path = './data/VOC2007_trainval'\n",
    "\n",
    "id = 'JPEGImages/000017.jpg'\n",
    "img = cv2.imread(f'{DB_path}/{id}')\n",
    "\n",
    "bnd = '185 62 279 199,90 78 403 336'\n",
    "cls = '14,12'\n",
    "bnd = list(map(str, bnd.split(',')))\n",
    "cls = list(map(int, cls.split(',')))\n",
    "\n",
    "for bbox in bnd:\n",
    "    box = list(map(int, bbox.split(' ')))\n",
    "    img = cv2.rectangle(img, (box[0], box[1]), (box[2], box[3]), (255, 0, 0), 2)\n",
    "\n",
    "cv2.imshow('t', img)\n",
    "cv2.waitKey()\n",
    "cv2.destroyAllWindows()\n",
    "\n"
   ]
  },
  {
   "cell_type": "code",
   "execution_count": 119,
   "outputs": [
    {
     "name": "stdout",
     "output_type": "stream",
     "text": [
      "{'image': './data/VOC2007_trainval\\\\JPEGImages/000012.jpg', 'Bboxs': array([[156,  97, 351, 270]]), 'Classes': array([6])}\n",
      "{'image': './data/VOC2007_trainval\\\\JPEGImages/000017.jpg', 'Bboxs': array([[185,  62, 279, 199],\n",
      "       [ 90,  78, 403, 336]]), 'Classes': array([14, 12])}\n",
      "{'image': './data/VOC2007_trainval\\\\JPEGImages/000023.jpg', 'Bboxs': array([[  9, 230, 245, 500],\n",
      "       [230, 220, 334, 500],\n",
      "       [  2, 178,  90, 500],\n",
      "       [  2,   1, 117, 369],\n",
      "       [  3,   2, 243, 462],\n",
      "       [225,   1, 334, 486]]), 'Classes': array([ 1,  1,  1, 14, 14, 14])}\n",
      "{'image': './data/VOC2007_trainval\\\\JPEGImages/000026.jpg', 'Bboxs': array([[ 90, 125, 337, 212]]), 'Classes': array([6])}\n",
      "{'image': './data/VOC2007_trainval\\\\JPEGImages/000032.jpg', 'Bboxs': array([[104,  78, 375, 183],\n",
      "       [133,  88, 197, 123],\n",
      "       [195, 180, 213, 229],\n",
      "       [ 26, 189,  44, 238]]), 'Classes': array([ 0,  0, 14, 14])}\n"
     ]
    }
   ],
   "source": [
    "import torch\n",
    "import os\n",
    "import cv2\n",
    "import pandas as pd\n",
    "\n",
    "DB_path = './data/VOC2007_trainval'\n",
    "\n",
    "label_csv = pd.read_csv('2007_train.csv')\n",
    "for idx in range(5):\n",
    "    img_path = os.path.join(f'{DB_path}', label_csv.iloc[idx, 0])\n",
    "\n",
    "    bboxs = label_csv.iloc[idx, 1]\n",
    "    bboxs = list(map(str, bboxs.split(',')))\n",
    "    bboxs = np.array(bboxs)\n",
    "    bbox = []\n",
    "    for bx in bboxs:\n",
    "        bbox.append(list(map(int, bx.split(' '))))\n",
    "    bbox = np.array(bbox)\n",
    "\n",
    "    clss = label_csv.iloc[idx, 2]\n",
    "    clss = list(map(int, clss.split(',')))\n",
    "    clss = np.array(clss)\n",
    "    sample = {'image': img_path, 'Bboxs': bbox, 'Classes': clss}\n",
    "\n",
    "    print(sample)\n",
    "#%"
   ],
   "metadata": {
    "collapsed": false,
    "pycharm": {
     "name": "#%%\n"
    }
   }
  },
  {
   "cell_type": "code",
   "execution_count": 117,
   "outputs": [
    {
     "data": {
      "text/plain": "__main__.CustomDataset"
     },
     "execution_count": 117,
     "metadata": {},
     "output_type": "execute_result"
    }
   ],
   "source": [
    "import torch\n",
    "import os\n",
    "import pandas as pd\n",
    "from torch.utils.data import Dataset, DataLoader\n",
    "\n",
    "\n",
    "DB_path = './data/VOC2007_trainval'\n",
    "csv_file = '2007_train.csv'\n",
    "\n",
    "class CustomDataset(Dataset):\n",
    "    def __init__(self):\n",
    "        self.label_csv = pd.read_csv('2007_train.csv')\n",
    "\n",
    "    def __len__(self):\n",
    "        return len(self.label_csv)\n",
    "\n",
    "    def __getitem__(self, idx):\n",
    "        if torch.is_tensor(idx):\n",
    "            idx = idx.tolist()\n",
    "\n",
    "        img_path = os.path.join(f'{DB_path}', self.label_csv.iloc[idx, 0])\n",
    "\n",
    "        bboxs = label_csv.iloc[idx, 1]\n",
    "        bboxs = list(map(str, bboxs.split(',')))\n",
    "        bboxs = np.array(bboxs)\n",
    "        bbox = []\n",
    "        for bx in bboxs:\n",
    "            bbox.append(list(map(int, bx.split(' '))))\n",
    "        bbox = np.array(bbox)\n",
    "\n",
    "        clss = label_csv.iloc[idx, 2]\n",
    "        clss = list(map(int, clss.split(',')))\n",
    "        clss = np.array(clss)\n",
    "\n",
    "        sample = {'image': img_path, 'Bboxs': bbox, 'Classes': clss}\n",
    "\n",
    "        return sample\n",
    "\n",
    "\n",
    "CustomDataset"
   ],
   "metadata": {
    "collapsed": false,
    "pycharm": {
     "name": "#%%\n"
    }
   }
  },
  {
   "cell_type": "code",
   "execution_count": null,
   "outputs": [],
   "source": [],
   "metadata": {
    "collapsed": false,
    "pycharm": {
     "name": "#%%\n"
    }
   }
  }
 ],
 "metadata": {
  "kernelspec": {
   "display_name": "Python 3",
   "language": "python",
   "name": "python3"
  },
  "language_info": {
   "codemirror_mode": {
    "name": "ipython",
    "version": 2
   },
   "file_extension": ".py",
   "mimetype": "text/x-python",
   "name": "python",
   "nbconvert_exporter": "python",
   "pygments_lexer": "ipython2",
   "version": "2.7.6"
  }
 },
 "nbformat": 4,
 "nbformat_minor": 0
}